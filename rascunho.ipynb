{
 "cells": [
  {
   "cell_type": "markdown",
   "metadata": {},
   "source": [
    "1 -  Manipulação de Strings"
   ]
  },
  {
   "cell_type": "markdown",
   "metadata": {},
   "source": [
    "    1.1 - Fatiamento de Strings"
   ]
  },
  {
   "cell_type": "code",
   "execution_count": 39,
   "metadata": {},
   "outputs": [
    {
     "name": "stdout",
     "output_type": "stream",
     "text": [
      "1 - The Lord\n",
      "2 - Rings\n",
      "3 - Lord of the\n",
      "4 - The Lord of the \n",
      "5 -  the Rings\n",
      "6 - Lr fte\n",
      "7 - sgniR eht fo droL ehT\n"
     ]
    }
   ],
   "source": [
    "texto = \"The Lord of the Rings\"\n",
    "\n",
    "# Do início até o caractere 8\n",
    "print(\"1 - \" + texto[:8])\n",
    "\n",
    "# Do caractere 16 até o fim\n",
    "print(\"2 - \" + texto[16:])\n",
    "\n",
    "# Do caractere 4 até o 15\n",
    "print(\"3 - \" + texto[4:15])\n",
    "\n",
    "# -5 caracteres do fim\n",
    "print(\"4 - \" + texto[:-5])\n",
    "\n",
    "# -10 caracteres do início ??\n",
    "print(\"5 - \" + texto[-10:])\n",
    "\n",
    "# Do caractere 4 até o 15, de 2 em 2 caracteres\n",
    "print(\"6 - \" + texto[4:15:2])\n",
    "\n",
    "# Inverte a string\n",
    "print(\"7 - \" + texto[::-1])"
   ]
  },
  {
   "cell_type": "markdown",
   "metadata": {},
   "source": [
    "    1.2 - Interpolação de Strings"
   ]
  },
  {
   "cell_type": "code",
   "execution_count": 40,
   "metadata": {},
   "outputs": [
    {
     "name": "stdout",
     "output_type": "stream",
     "text": [
      "Olá, meu nome é Arthur, e tenho 99 anos!\n"
     ]
    }
   ],
   "source": [
    "nome = \"Arthur\"\n",
    "idade = 99\n",
    "\n",
    "print(f\"Olá, meu nome é {nome}, e tenho {idade} anos!\")"
   ]
  },
  {
   "cell_type": "markdown",
   "metadata": {},
   "source": [
    "    1.3 - Métodos úteis"
   ]
  },
  {
   "cell_type": "code",
   "execution_count": 65,
   "metadata": {},
   "outputs": [
    {
     "name": "stdout",
     "output_type": "stream",
     "text": [
      "1 -    HOUSE OF CARDS   \n",
      "2 -    house of cards   \n",
      "3 -    House Of Cards   \n",
      "4 - house of cards.\n",
      "5 - house of cards   .\n",
      "6 -    house of cards.\n",
      "7 -         house of cards        \n",
      "8 - #####   house of cards   #####\n",
      "9 - h.o.u.s.e. .o.f. .c.a.r.d.s\n",
      "['h', 'o', 'u', 's', 'e', ' ', 'o', 'f', ' ', 'c', 'a', 'r', 'd', 's']\n"
     ]
    }
   ],
   "source": [
    "texto = \"   house of cards   \"\n",
    "\n",
    "# Todos os caracteres maiúsculos\n",
    "print(\"1 - \" + texto.upper())\n",
    "\n",
    "# Todos os caracteres minúsculos\n",
    "print(\"2 - \" + texto.lower())\n",
    "\n",
    "# Primeiros caracteres de cada palavra maiúsculos\n",
    "print(\"3 - \" + texto.title())\n",
    "\n",
    "# Retirar espaços antes e depois do texto\n",
    "print(\"4 - \" + texto.strip() + \".\")\n",
    "\n",
    "# Retirar espaços antes do texto\n",
    "print(\"5 - \" + texto.lstrip() + \".\")\n",
    "\n",
    "# Retirar espaços depois do texto\n",
    "print(\"6 - \" + texto.rstrip() + \".\")\n",
    "\n",
    "# Centraliza o texto com 30 caracteres com espaço\n",
    "print(\"7 - \" + texto.center(30))\n",
    "\n",
    "# Centraliza o texto com 30 caracteres com o #\n",
    "print(\"8 - \" + texto.center(30, \"#\"))\n",
    "\n",
    "# Concatenar o caractere . entre cada caractere da string original\n",
    "texto = \".\".join(texto.strip())\n",
    "print(\"9 - \" + texto)\n",
    "\n",
    "# Converte a string em um vetor de strings separadas por \".\"\n",
    "texto_strip = texto.split(\".\")\n",
    "print(texto_strip)"
   ]
  },
  {
   "cell_type": "markdown",
   "metadata": {},
   "source": [
    "2 - Listas"
   ]
  },
  {
   "cell_type": "code",
   "execution_count": 68,
   "metadata": {},
   "outputs": [
    {
     "name": "stdout",
     "output_type": "stream",
     "text": [
      "maça\n",
      "acerola\n"
     ]
    }
   ],
   "source": [
    "frutas = [\"maça\", \"uva\", \"laranja\", \"limão\", \"acerola\"]\n",
    "# Indexação padrão (da esquerda para a direita, começando em 0)\n",
    "print(frutas[0])\n",
    "# Indexação negativa (da direita para esquerda)\n",
    "print(frutas[-1])"
   ]
  },
  {
   "cell_type": "markdown",
   "metadata": {},
   "source": [
    "    2.1 - Fatiamento"
   ]
  },
  {
   "cell_type": "code",
   "execution_count": 74,
   "metadata": {},
   "outputs": [
    {
     "name": "stdout",
     "output_type": "stream",
     "text": [
      "1 - ['maça', 'uva', 'laranja']\n",
      "2 - ['uva', 'laranja', 'limão']\n",
      "6 - ['uva', 'limão']\n",
      "7 - ['acerola', 'limão', 'laranja', 'uva', 'maça']\n"
     ]
    }
   ],
   "source": [
    "frutas = [\"maça\", \"uva\", \"laranja\", \"limão\", \"acerola\"]\n",
    "\n",
    "\n",
    "print(\"1 - \" + str(frutas[:3]))\n",
    "\n",
    "print(\"2 - \" + str(frutas[1:4]))\n",
    "\n",
    "print(\"6 - \" + str(frutas[1:4:2]))\n",
    "\n",
    "print(\"7 - \" + str(frutas[::-1]))"
   ]
  },
  {
   "cell_type": "markdown",
   "metadata": {},
   "source": [
    "    2.2 - Laço de Repetição One-Line"
   ]
  },
  {
   "cell_type": "code",
   "execution_count": 78,
   "metadata": {},
   "outputs": [
    {
     "name": "stdout",
     "output_type": "stream",
     "text": [
      "[2, 4, 6, 8, 10]\n",
      "[1, 3, 5, 7, 9]\n"
     ]
    }
   ],
   "source": [
    "numeros = [1, 2, 3, 4, 5, 6, 7, 8, 9, 10]\n",
    "\n",
    "numeros_pares = [numero for numero in numeros if numero %2 == 0]\n",
    "print(numeros_pares)\n",
    "\n",
    "numeros_impares = [numero for numero in numeros if numero %2 != 0]\n",
    "print(numeros_impares)"
   ]
  },
  {
   "cell_type": "markdown",
   "metadata": {},
   "source": [
    "    2.3 - Operações com listas"
   ]
  },
  {
   "cell_type": "code",
   "execution_count": 105,
   "metadata": {},
   "outputs": [
    {
     "name": "stdout",
     "output_type": "stream",
     "text": [
      "============Append============\n",
      "['elemento_1_da_lista', 'elemento_2_da_lista']\n",
      "============Append============\n",
      "============Clear=============\n",
      "[]\n",
      "============Clear=============\n",
      "=============Copy=============\n",
      "[1, 2, 3]\n",
      "[]\n",
      "[1, 2, 3]\n",
      "[1, 2, 3]\n",
      "=============Copy=============\n",
      "============Count=============\n",
      "2\n",
      "3\n",
      "============Count=============\n",
      "============Extend============\n",
      "[1, 1, 2]\n",
      "============Extend============\n",
      "============Index=============\n",
      "1\n",
      "============Index=============\n"
     ]
    }
   ],
   "source": [
    "lista = []\n",
    "\n",
    "# Adicionar um elemento no fim da lista\n",
    "print(\"Append\".center(30, \"=\"))\n",
    "lista.append('elemento_1_da_lista')\n",
    "lista.append('elemento_2_da_lista')\n",
    "print(lista)\n",
    "print(\"Append\".center(30, \"=\"))\n",
    "\n",
    "# Excluír todos os elementos da lista\n",
    "print(\"Clear\".center(30, \"=\"))\n",
    "lista.clear()\n",
    "print(lista)\n",
    "print(\"Clear\".center(30, \"=\"))\n",
    "\n",
    "# Copiar a lista \n",
    "print(\"Copy\".center(30, \"=\"))\n",
    "lista1 = [1, 2, 3]\n",
    "lista2 = []\n",
    "\n",
    "print(lista1)\n",
    "print(lista2)\n",
    "lista2 = lista1.copy()\n",
    "print(lista1)\n",
    "print(lista2)\n",
    "print(\"Copy\".center(30, \"=\"))\n",
    "\n",
    "# Contar um determinado elemento da lista\n",
    "print(\"Count\".center(30, \"=\"))\n",
    "lista = [1, 2, 2, 2, 1]\n",
    "print(lista.count(1))\n",
    "print(lista.count(2))\n",
    "print(\"Count\".center(30, \"=\"))\n",
    "\n",
    "# Juntar duas listas\n",
    "print(\"Extend\".center(30, \"=\"))\n",
    "lista1 = [1]\n",
    "lista2 = [1, 2]\n",
    "\n",
    "lista1.extend(lista2)\n",
    "print(lista1)\n",
    "print(\"Extend\".center(30, \"=\"))\n",
    "\n",
    "# Encontrar o índica da primeira ocorrência de um elemento\n",
    "print(\"Index\".center(30, \"=\"))\n",
    "lista = [1, 2, 3, 2, 1]\n",
    "print(lista.index(2))\n",
    "print(\"Index\".center(30, \"=\"))"
   ]
  },
  {
   "cell_type": "code",
   "execution_count": 106,
   "metadata": {},
   "outputs": [
    {
     "name": "stdout",
     "output_type": "stream",
     "text": [
      "=============Pop==============\n",
      "[1, 2, 3, 4, 5, 6]\n",
      "[1, 2, 4, 5, 6]\n",
      "=============Pop==============\n",
      "============Remove============\n",
      "['uva', 'laranja', 'limão', 'acerola']\n",
      "============Remove============\n",
      "===========Reverse============\n",
      "['acerola', 'limão', 'laranja', 'uva', 'maça']\n",
      "===========Reverse============\n",
      "=============Sort=============\n",
      "['acerola', 'laranja', 'limão', 'maça', 'uva']\n",
      "['uva', 'maça', 'limão', 'laranja', 'acerola']\n",
      "['uva', 'maça', 'limão', 'laranja', 'acerola']\n",
      "=============Sort=============\n"
     ]
    }
   ],
   "source": [
    "# Excluir o último elemento inserido na lista ou excluir o elemento de determinado índice\n",
    "print(\"Pop\".center(30, \"=\"))\n",
    "lista = [1, 2, 3, 4, 5, 6, 7] \n",
    "lista.pop()\n",
    "print(lista)\n",
    "lista.pop(2)\n",
    "print(lista)\n",
    "print(\"Pop\".center(30, \"=\"))\n",
    "\n",
    "# Excluir um elemento passando ele mesmo\n",
    "print(\"Remove\".center(30, \"=\"))\n",
    "lista = [\"maça\", \"uva\", \"laranja\", \"limão\", \"acerola\"]\n",
    "lista.remove(\"maça\")\n",
    "print(lista)\n",
    "print(\"Remove\".center(30, \"=\"))\n",
    "\n",
    "# Inverte a lista\n",
    "print(\"Reverse\".center(30, \"=\"))\n",
    "lista = [\"maça\", \"uva\", \"laranja\", \"limão\", \"acerola\"]\n",
    "lista.reverse()\n",
    "print(lista)\n",
    "print(\"Reverse\".center(30, \"=\"))\n",
    "\n",
    "# Ordena a lista\n",
    "print(\"Sort\".center(30, \"=\"))\n",
    "lista = [\"maça\", \"uva\", \"laranja\", \"limão\", \"acerola\"]\n",
    "lista.sort()\n",
    "print(lista)\n",
    "lista.sort(reverse= True)\n",
    "print(lista)\n",
    "# Ordenação pelo tamanho da palavra \n",
    "lista.sort(key= lambda x: len(x))\n",
    "print(lista)\n",
    "print(\"Sort\".center(30, \"=\"))"
   ]
  },
  {
   "cell_type": "markdown",
   "metadata": {},
   "source": [
    "3 - Tuplas"
   ]
  },
  {
   "cell_type": "code",
   "execution_count": 9,
   "metadata": {},
   "outputs": [
    {
     "name": "stdout",
     "output_type": "stream",
     "text": [
      "maça\n",
      "uva\n",
      "('peira', 'banana')\n",
      "('maça', 'peira', 'banana')\n"
     ]
    }
   ],
   "source": [
    "# Tuplas se assemelham à listas, mas são imutáveis\n",
    "tupla = (\"maça\", \"peira\", \"banana\", \"uva\")\n",
    "tupl2 = tuple([\"maça\", \"peira\", \"banana\", \"uva\"])\n",
    "\n",
    "print(tupla[0])\n",
    "print(tupla[-1])\n",
    "\n",
    "print(tupla[1:3])\n",
    "print(tupla[:3])\n"
   ]
  },
  {
   "cell_type": "markdown",
   "metadata": {},
   "source": [
    "4 - Conjuntos(Set)"
   ]
  },
  {
   "cell_type": "code",
   "execution_count": 3,
   "metadata": {},
   "outputs": [
    {
     "name": "stdout",
     "output_type": "stream",
     "text": [
      "{'gol', 'palio', 'celta', 'toro'}\n"
     ]
    }
   ],
   "source": [
    "# Coleção que não possui elementos duplicados\n",
    "conjunto_carro = {\"palio\", \"gol\", \"toro\", \"celta\", \"palio\"}\n",
    "conjunto_carro2 = set((\"palio\", \"gol\", \"toro\", \"celta\", \"palio\"))\n",
    "\n",
    "print(conjunto_carro)"
   ]
  },
  {
   "cell_type": "markdown",
   "metadata": {},
   "source": [
    "    4.1 - Acessar Conjuntos"
   ]
  },
  {
   "cell_type": "code",
   "execution_count": 5,
   "metadata": {},
   "outputs": [
    {
     "name": "stdout",
     "output_type": "stream",
     "text": [
      "gol\n",
      "gol\n",
      "palio\n",
      "celta\n",
      "toro\n"
     ]
    }
   ],
   "source": [
    "# Não é possível acessá-lo diretamente. É necessário convertê-lo em uma lista para isso.\n",
    "conjunto_carro = list(conjunto_carro)\n",
    "print(conjunto_carro[0])\n",
    "\n",
    "# Mas é possível iterar um set\n",
    "\n",
    "for carro in conjunto_carro2:\n",
    "    print(carro)"
   ]
  },
  {
   "cell_type": "markdown",
   "metadata": {},
   "source": [
    "    4.2 - Operações em Conjuntos"
   ]
  },
  {
   "cell_type": "code",
   "execution_count": 18,
   "metadata": {},
   "outputs": [
    {
     "name": "stdout",
     "output_type": "stream",
     "text": [
      "{1, 2, 4, 6, 7, 9}\n",
      "{1}\n",
      "{9, 7}\n",
      "{2, 4, 6, 7, 9}\n",
      "False\n",
      "False\n",
      "False\n",
      "{1, 2, 9, 7}\n",
      "{1, 2, 9, 7}\n",
      "{1, 9, 7}\n",
      "{9, 7}\n"
     ]
    }
   ],
   "source": [
    "conjunto_a = {1, 7, 9}\n",
    "conjunto_b = {4, 6, 2, 1}\n",
    "\n",
    "print(conjunto_a.union(conjunto_b))\n",
    "print(conjunto_a.intersection(conjunto_b))\n",
    "print(conjunto_a.difference(conjunto_b))\n",
    "print(conjunto_a.symmetric_difference(conjunto_b))\n",
    "print(conjunto_a.issubset(conjunto_b))\n",
    "print(conjunto_a.issuperset(conjunto_b))\n",
    "print(conjunto_a.isdisjoint(conjunto_b))\n",
    "\n",
    "\n",
    "conjunto_a.add(2)\n",
    "print(conjunto_a)\n",
    "conjunto_c = conjunto_a.copy()\n",
    "conjunto_a.clear()\n",
    "\n",
    "print(conjunto_c)\n",
    "# Se o elemento existe remove, se não, ignora\n",
    "conjunto_c.discard(2)\n",
    "print(conjunto_c)\n",
    "# Remove o último elemento inserido\n",
    "conjunto_c.pop()\n",
    "print(conjunto_c)\n"
   ]
  },
  {
   "cell_type": "markdown",
   "metadata": {},
   "source": [
    "5 - Dicionários"
   ]
  },
  {
   "cell_type": "code",
   "execution_count": 22,
   "metadata": {},
   "outputs": [
    {
     "name": "stdout",
     "output_type": "stream",
     "text": [
      "Arthur\n",
      "{'nome': 'Arthur', 'idade': 35}\n"
     ]
    }
   ],
   "source": [
    "pessoa1 = {\"nome\": \"Arthur\", \"idade\": 28}\n",
    "pessoa2 = {\"nome\": \"Bernardo\", \"idade\": 30}\n",
    "print(pessoa1[\"nome\"])\n",
    "pessoa1[\"idade\"] = 35\n",
    "print(pessoa1)"
   ]
  },
  {
   "cell_type": "code",
   "execution_count": 47,
   "metadata": {},
   "outputs": [
    {
     "name": "stdout",
     "output_type": "stream",
     "text": [
      "Arthur\n"
     ]
    }
   ],
   "source": [
    "# Dicionários aninhados. Permite colocar chaves únicas...\n",
    "\n",
    "contatos = {\n",
    "    \"pessoa1@teste.com\":{\"nome\": \"Arthur\", \"idade\": 28},\n",
    "    \"pessoa2@teste.com\":{\"nome\": \"Bernardo\", \"idade\": 30}\n",
    "}\n",
    "print(contatos[\"pessoa1@teste.com\"][\"nome\"])"
   ]
  },
  {
   "cell_type": "code",
   "execution_count": 48,
   "metadata": {},
   "outputs": [
    {
     "name": "stdout",
     "output_type": "stream",
     "text": [
      "pessoa1@teste.com {'nome': 'Arthur', 'idade': 28}\n",
      "pessoa2@teste.com {'nome': 'Bernardo', 'idade': 30}\n"
     ]
    }
   ],
   "source": [
    "# Iterar dicionários\n",
    "\n",
    "for contato in contatos:\n",
    "    print(contato, contatos[contato])"
   ]
  },
  {
   "cell_type": "code",
   "execution_count": 53,
   "metadata": {},
   "outputs": [
    {
     "name": "stdout",
     "output_type": "stream",
     "text": [
      "None\n",
      "{}\n",
      "dict_items([('pessoa1@teste.com', {'nome': 'Arthur', 'idade': 28}), ('pessoa2@teste.com', {'nome': 'Bernardo', 'idade': 30})])\n",
      "dict_keys(['pessoa1@teste.com', 'pessoa2@teste.com'])\n",
      "{'nome': 'Moura', 'idade': 28}\n",
      "{'nome': 'Bernardo', 'idade': 28}\n",
      "dict_values([{'nome': 'Arthur', 'idade': 28}, {'nome': 'Bernardo', 'idade': 30}])\n"
     ]
    }
   ],
   "source": [
    "# Operações com dicionários\n",
    "\n",
    "contatos2 = contatos.copy()\n",
    "contatos2.clear()\n",
    "\n",
    "\n",
    "print(contatos.get(\"pessoainexistente@teste.com\"))\n",
    "print(contatos.get(\"pessoainexistente@teste.com\", {}))\n",
    "\n",
    "# Retorna uma lista de tuplas do dicionário\n",
    "print(contatos.items())\n",
    "# Retorna todas as chaves do dicionário\n",
    "print(contatos.keys())\n",
    "# Remove o registro com a chave passada\n",
    "#print(contatos.pop(\"pessoa1@teste.com\"))\n",
    "# Adiciona no dicionário só se o registro não existir\n",
    "contato = {\"nome\": \"Moura\", \"idade\": 28}\n",
    "contato.setdefault(\"nome\", \"Bernardo\")\n",
    "print(contato)\n",
    "contato.update({\"nome\": \"Bernardo\", \"idade\": 28})\n",
    "print(contato)\n",
    "\n",
    "\n",
    "contatos = {\n",
    "    \"pessoa1@teste.com\":{\"nome\": \"Arthur\", \"idade\": 28},\n",
    "    \"pessoa2@teste.com\":{\"nome\": \"Bernardo\", \"idade\": 30}\n",
    "}\n",
    "\n",
    "# Retorna apenas os valores do dicionário\n",
    "print(contatos.values())\n",
    "\n",
    "# Deletar registro específico ou todo o dicionário\n",
    "\n",
    "del contatos[\"pessoa1@teste.com\"]\n",
    "del contatos"
   ]
  },
  {
   "cell_type": "code",
   "execution_count": 39,
   "metadata": {},
   "outputs": [
    {
     "name": "stdout",
     "output_type": "stream",
     "text": [
      "or(and(not(0),not(0)),and(0,not(1)))\n",
      "1\n"
     ]
    }
   ],
   "source": [
    "def substitui_variaveis(expressao, variaveis):\n",
    "    for i in range(len(variaveis)):\n",
    "        expressao = expressao.replace(str(chr(65+i)), str(variaveis[i]))\n",
    "    return expressao\n",
    "\n",
    "def simplifica_expressao(expressao):\n",
    "    expressao = expressao.replace(\"not(0)\", \"1\")\n",
    "    expressao = expressao.replace(\"not(1)\", \"0\")\n",
    "    expressao = expressao.replace(\"and(1,1)\", \"1\")\n",
    "    expressao = expressao.replace(\"and(1,0)\", \"0\")\n",
    "    expressao = expressao.replace(\"and(0,1)\", \"0\")\n",
    "    expressao = expressao.replace(\"and(0,0)\", \"0\")\n",
    "    expressao = expressao.replace(\"or(1,1)\", \"1\")\n",
    "    expressao = expressao.replace(\"or(1,0)\", \"1\")\n",
    "    expressao = expressao.replace(\"or(0,1)\", \"1\")\n",
    "    expressao = expressao.replace(\"or(0,0)\", \"0\")\n",
    "    \n",
    "    return expressao\n",
    "\n",
    "\n",
    "entrada = \"3 0 0 1 or(and(not(A),not(B)),and(A,not(C)))\"\n",
    "num_variaveis = int(entrada[0])\n",
    "variaveis = entrada[2:(num_variaveis*2)+1].split(\" \")\n",
    "expressao = entrada[(num_variaveis*2)+2:].replace(\" \", \"\")\n",
    "\n",
    "expressao = substitui_variaveis(expressao,variaveis)\n",
    "print(expressao)\n",
    "\n",
    "while(len(expressao) != 1):\n",
    "    expressao = simplifica_expressao(expressao)\n",
    "    print(expressao)\n",
    "    \n"
   ]
  },
  {
   "cell_type": "code",
   "execution_count": null,
   "metadata": {},
   "outputs": [],
   "source": []
  }
 ],
 "metadata": {
  "kernelspec": {
   "display_name": "Python 3",
   "language": "python",
   "name": "python3"
  },
  "language_info": {
   "codemirror_mode": {
    "name": "ipython",
    "version": 3
   },
   "file_extension": ".py",
   "mimetype": "text/x-python",
   "name": "python",
   "nbconvert_exporter": "python",
   "pygments_lexer": "ipython3",
   "version": "3.8.0"
  },
  "orig_nbformat": 4
 },
 "nbformat": 4,
 "nbformat_minor": 2
}
