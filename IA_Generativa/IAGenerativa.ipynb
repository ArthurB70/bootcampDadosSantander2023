{
 "cells": [
  {
   "cell_type": "markdown",
   "metadata": {},
   "source": [
    "# Criando usuários na API"
   ]
  },
  {
   "cell_type": "code",
   "execution_count": 49,
   "metadata": {},
   "outputs": [],
   "source": [
    "import json\n",
    "import random\n",
    "import requests\n",
    "import pandas as pd"
   ]
  },
  {
   "cell_type": "code",
   "execution_count": 39,
   "metadata": {},
   "outputs": [],
   "source": [
    "\n",
    "url = 'https://sdw-2023-prd.up.railway.app/users'\n",
    "nomes = ['Pedro', 'Ana', 'João', 'Victor', 'Renato', 'Julia', 'Luana', 'Luis']\n",
    "sobrenomes = ['Cardoso', 'Coelho', 'Moura', 'Silva', 'Peixoto']\n",
    "ids = []\n",
    "\n",
    "for _ in range(10):\n",
    "    full_name = nomes[random.randint(0,len(nomes)-1)] + ' ' + sobrenomes[random.randint(0,len(sobrenomes)-1)]\n",
    "    account_number = f'{random.randint(0,9)}{random.randint(0,9)}{random.randint(0,9)}{random.randint(0,9)}-{random.randint(0,9)}'\n",
    "    agency = f'{random.randint(0,9)}{random.randint(0,9)}{random.randint(0,9)}{random.randint(0,9)}'\n",
    "    card_number = f'{random.randint(0,9)}{random.randint(0,9)}{random.randint(0,9)}{random.randint(0,9)} '\n",
    "    card_number += f'{random.randint(0,9)}{random.randint(0,9)}{random.randint(0,9)}{random.randint(0,9)} '\n",
    "    card_number += f'{random.randint(0,9)}{random.randint(0,9)}{random.randint(0,9)}{random.randint(0,9)} '\n",
    "    card_number += f'{random.randint(0,9)}{random.randint(0,9)}{random.randint(0,9)}{random.randint(0,9)}'\n",
    "                \n",
    "    obj = {\n",
    "    \"name\": full_name,\n",
    "    \"account\": {\n",
    "        \"number\": account_number,\n",
    "        \"agency\": agency,\n",
    "        \"balance\": random.randint(0,100000),\n",
    "        \"limit\": random.randint(0,100000)\n",
    "    },\n",
    "    \"card\": {\n",
    "        \"number\": card_number,\n",
    "        \"limit\": random.randint(0,10000)\n",
    "    }\n",
    "    }\n",
    "    response = requests.post(url, json = obj)\n",
    "    response = json.loads(response.text)\n",
    "    ids.append(response.get('id'))\n",
    "    "
   ]
  },
  {
   "cell_type": "code",
   "execution_count": 47,
   "metadata": {},
   "outputs": [],
   "source": [
    "df = pd.DataFrame({'UserID':ids})\n",
    "df.to_csv('UserID.csv')\n"
   ]
  },
  {
   "cell_type": "markdown",
   "metadata": {},
   "source": [
    "# Extract"
   ]
  },
  {
   "cell_type": "code",
   "execution_count": 1,
   "metadata": {},
   "outputs": [],
   "source": [
    "import json\n",
    "import requests\n",
    "import pandas as pd\n",
    "from typing import List\n",
    "from typing import Any\n",
    "from dataclasses import dataclass"
   ]
  },
  {
   "cell_type": "code",
   "execution_count": 2,
   "metadata": {},
   "outputs": [],
   "source": [
    "df = pd.read_csv('UserID.csv')\n",
    "ids = df['UserID'].to_list()"
   ]
  },
  {
   "cell_type": "code",
   "execution_count": 3,
   "metadata": {},
   "outputs": [],
   "source": [
    "@dataclass\n",
    "class Account:\n",
    "    id: int\n",
    "    number: str\n",
    "    agency: str\n",
    "    balance: float\n",
    "    limit: float\n",
    "\n",
    "    @staticmethod\n",
    "    def from_dict(json):\n",
    "        id = int(json.get('id'))\n",
    "        number = str(json.get('number'))\n",
    "        agency = str(json.get('agency'))\n",
    "        balance = float(json.get('balance'))\n",
    "        limit = float(json.get('limit'))\n",
    "        return Account(id, number, agency, balance, limit)\n",
    "\n",
    "@dataclass\n",
    "class Card:\n",
    "    id: int\n",
    "    number: str\n",
    "    limit: float\n",
    "\n",
    "    @staticmethod\n",
    "    def from_dict(json):\n",
    "        id = int(json.get('id'))\n",
    "        number = str(json.get('number'))\n",
    "        limit = float(json.get('limit'))\n",
    "        return Card(id, number, limit)\n",
    "\n",
    "@dataclass\n",
    "class Features:\n",
    "    id: int\n",
    "    icon: str\n",
    "    description: str\n",
    "\n",
    "    @staticmethod\n",
    "    def from_dict(json):\n",
    "        id = int(json.get('id'))\n",
    "        icon = str(json.get('icon'))\n",
    "        description = str(json.get('description'))\n",
    "        return Features(id, icon, description)\n",
    "\n",
    "@dataclass\n",
    "class News:\n",
    "    id: int\n",
    "    icon: str\n",
    "    description: str\n",
    "   \n",
    "    @staticmethod\n",
    "    def from_dict(json):\n",
    "        id = int(json.get('id'))\n",
    "        icon = str(json.get('icon'))\n",
    "        description = str(json.get('description'))\n",
    "        return News(id, icon, description)\n",
    "\n",
    "@dataclass\n",
    "class User:\n",
    "    id: int\n",
    "    name: str\n",
    "    account: Account\n",
    "    card: Card\n",
    "    features = List[Features]\n",
    "    news = List[News]\n",
    "\n",
    "    def __init__(self, _id, _name, _account, _card, _features, _news):\n",
    "        self.id = _id\n",
    "        self.name = _name\n",
    "        self.account = _account\n",
    "        self.card = _card\n",
    "        self.features = _features\n",
    "        self.news = _news\n",
    "\n",
    "    @staticmethod\n",
    "    def from_dict(json):\n",
    "        id = int(json.get('id'))\n",
    "        name = str(json.get('name'))\n",
    "        account = Account.from_dict(json.get('account'))\n",
    "        card = Card.from_dict(json.get('card'))\n",
    "        features = [Features.from_dict(feature) for feature in json.get('features')]\n",
    "        news = [News.from_dict(new) for new in json.get('news')]\n",
    "        return User(id, name, account, card, features, news)\n",
    "    \n",
    "    @staticmethod\n",
    "    def get_users(ids):\n",
    "        endpoint = 'https://sdw-2023-prd.up.railway.app/users'\n",
    "        users = []\n",
    "        for id in ids:\n",
    "            if id is not None:\n",
    "                response = requests.get(f'{endpoint}/{id}')\n",
    "                if response.status_code == 200:\n",
    "                    print(id)\n",
    "                    user = json.loads(json.dumps(response.json()))\n",
    "                    users.append(User.from_dict(user))\n",
    "        \n",
    "        return users\n",
    "    "
   ]
  },
  {
   "cell_type": "code",
   "execution_count": 4,
   "metadata": {},
   "outputs": [
    {
     "name": "stdout",
     "output_type": "stream",
     "text": [
      "3293\n",
      "3294\n",
      "3295\n",
      "3296\n",
      "3297\n",
      "3298\n",
      "3299\n",
      "3300\n",
      "3301\n",
      "3302\n"
     ]
    }
   ],
   "source": [
    "users = User.get_users(ids)"
   ]
  },
  {
   "cell_type": "markdown",
   "metadata": {},
   "source": [
    "# Transform"
   ]
  },
  {
   "cell_type": "code",
   "execution_count": null,
   "metadata": {},
   "outputs": [],
   "source": [
    "\n",
    "!pip install openai"
   ]
  },
  {
   "cell_type": "code",
   "execution_count": 5,
   "metadata": {},
   "outputs": [],
   "source": [
    "import openai\n",
    "import time\n",
    "\n",
    "openai.api_key = ''"
   ]
  },
  {
   "cell_type": "code",
   "execution_count": 6,
   "metadata": {},
   "outputs": [],
   "source": [
    "def get_news(users):\n",
    "    for user in users:\n",
    "        completion = openai.ChatCompletion.create(\n",
    "        model=\"gpt-3.5-turbo\",\n",
    "        messages=[\n",
    "            {\"role\": \"system\", \"content\": \"Você é um especialista em marketing bancário.\"},\n",
    "            {\"role\": \"user\", \"content\": f\"Criei uma mensagem para {user.name} sobre a importância da educação financeira e de investir (máximo de 200 caracteres).\"}\n",
    "        ]\n",
    "        )\n",
    "        user.news.append(News(None,'https://github.com/digitalinnovationone/santander-dev-week-2023-api/blob/main/docs/icons/credit.svg',completion.choices[0].message.content.strip('\\\"')))\n",
    "        time.sleep(25)\n",
    "    return users"
   ]
  },
  {
   "cell_type": "code",
   "execution_count": 7,
   "metadata": {},
   "outputs": [],
   "source": [
    "def get_features(users):\n",
    "    for user in users:\n",
    "        completion = openai.ChatCompletion.create(\n",
    "        model=\"gpt-3.5-turbo\",\n",
    "        messages=[\n",
    "            {\"role\": \"system\", \"content\": \"Você é um especialista em marketing bancário.\"},\n",
    "            {\"role\": \"user\", \"content\": f\"Criei uma sugestão de investimento para o cliente {user.name}. Saldo de {user.account.balance} e um limite de credito de {user.account.limit} (máximo de 200 caracteres).\"}\n",
    "        ]\n",
    "        )\n",
    "        user.features.append(Features(None,'https://github.com/digitalinnovationone/santander-dev-week-2023-api/blob/main/docs/icons/credit.svg',completion.choices[0].message.content.strip('\\\"')))\n",
    "        time.sleep(25)\n",
    "    return users"
   ]
  },
  {
   "cell_type": "code",
   "execution_count": 8,
   "metadata": {},
   "outputs": [],
   "source": [
    "users = get_news(users)\n",
    "\n"
   ]
  },
  {
   "cell_type": "code",
   "execution_count": 9,
   "metadata": {},
   "outputs": [],
   "source": [
    "users = get_features(users)"
   ]
  },
  {
   "cell_type": "code",
   "execution_count": 10,
   "metadata": {},
   "outputs": [
    {
     "data": {
      "text/plain": [
       "[News(id=6836, icon='https://github.com/digitalinnovationone/santander-dev-week-2023-api/blob/main/docs/icons/credit.svg', description='Julia, invista em você mesma! Educação financeira é o caminho para uma vida financeira saudável e próspera. Não perca essa oportunidade!'),\n",
       " News(id=None, icon='https://github.com/digitalinnovationone/santander-dev-week-2023-api/blob/main/docs/icons/credit.svg', description='Julia, invista em você mesma e em seu futuro financeiro. Aprenda a ter controle sobre seu dinheiro e faça ele trabalhar para você. Educação financeira é o caminho para o sucesso!')]"
      ]
     },
     "execution_count": 10,
     "metadata": {},
     "output_type": "execute_result"
    }
   ],
   "source": [
    "users[0].news"
   ]
  },
  {
   "cell_type": "code",
   "execution_count": 11,
   "metadata": {},
   "outputs": [
    {
     "data": {
      "text/plain": [
       "[Features(id=None, icon='https://github.com/digitalinnovationone/santander-dev-week-2023-api/blob/main/docs/icons/credit.svg', description='Sugestão de investimento para o cliente Luis Moura: Diversifique seu portfólio de investimentos com uma combinação de renda fixa e variável para maximizar seus retornos. Considere investir uma parte em títulos de renda fixa de baixo risco e o restante em ações de empresas sólidas e com bom potencial de crescimento. Aproveite seu saldo de 82857.0 e limite de crédito de 76452.0 para aumentar suas oportunidades de investimento.')]"
      ]
     },
     "execution_count": 11,
     "metadata": {},
     "output_type": "execute_result"
    }
   ],
   "source": [
    "users[3].features"
   ]
  },
  {
   "cell_type": "markdown",
   "metadata": {},
   "source": [
    "# Load"
   ]
  },
  {
   "cell_type": "code",
   "execution_count": 12,
   "metadata": {},
   "outputs": [],
   "source": [
    "#for user in users:\n",
    "jsonStr = json.dumps(users[0].__dict__, default=lambda o: o.__dict__, indent=4)"
   ]
  },
  {
   "cell_type": "code",
   "execution_count": 13,
   "metadata": {},
   "outputs": [
    {
     "data": {
      "text/plain": [
       "{'id': 3293,\n",
       " 'name': 'Julia Peixoto',\n",
       " 'account': {'id': 3491,\n",
       "  'number': '8999-1',\n",
       "  'agency': '5605',\n",
       "  'balance': 78326.0,\n",
       "  'limit': 43503.0},\n",
       " 'card': {'id': 3187, 'number': '3451 5609 6809 5131', 'limit': 1236.0},\n",
       " 'features': [{'id': 1050,\n",
       "   'icon': 'https://github.com/digitalinnovationone/santander-dev-week-2023-api/blob/main/docs/icons/credit.svg',\n",
       "   'description': 'Sugestão de investimento para Julia Peixoto: Considerando seu saldo de R$78.326,00 e limite de crédito de R$43.503,00, recomendo diversificar seus investimentos. Aproveite os benefícios da renda fixa,'},\n",
       "  {'id': None,\n",
       "   'icon': 'https://github.com/digitalinnovationone/santander-dev-week-2023-api/blob/main/docs/icons/credit.svg',\n",
       "   'description': 'Sugestão de Investimento para Julia Peixoto: Diversifique seu portfólio com uma combinação de fundos de renda fixa e ações, equilibrando segurança e potencial de retorno. Agende uma consulta para discutirmos estratégias sob medida para seu perfil. #InvestimentoPersonalizado'}],\n",
       " 'news': [{'id': 6836,\n",
       "   'icon': 'https://github.com/digitalinnovationone/santander-dev-week-2023-api/blob/main/docs/icons/credit.svg',\n",
       "   'description': 'Julia, invista em você mesma! Educação financeira é o caminho para uma vida financeira saudável e próspera. Não perca essa oportunidade!'},\n",
       "  {'id': None,\n",
       "   'icon': 'https://github.com/digitalinnovationone/santander-dev-week-2023-api/blob/main/docs/icons/credit.svg',\n",
       "   'description': 'Julia, invista em você mesma e em seu futuro financeiro. Aprenda a ter controle sobre seu dinheiro e faça ele trabalhar para você. Educação financeira é o caminho para o sucesso!'}]}"
      ]
     },
     "execution_count": 13,
     "metadata": {},
     "output_type": "execute_result"
    }
   ],
   "source": [
    "json.loads(jsonStr)"
   ]
  },
  {
   "cell_type": "code",
   "execution_count": null,
   "metadata": {},
   "outputs": [],
   "source": [
    "endpoint = 'https://sdw-2023-prd.up.railway.app'\n",
    "\n",
    "for user in users:\n",
    "    obj = {\n",
    "    \"id\": user.id,\n",
    "    \"name\": user.name,\n",
    "    \"account\": {\n",
    "        \"id\": user.account.id,\n",
    "        \"number\": user.account.number,\n",
    "        \"agency\": user.account.agency,\n",
    "        \"balance\": user.account.balance,\n",
    "        \"limit\": user.account.limit\n",
    "    },\n",
    "    \"card\": {\n",
    "        \"id\": user.card.id,\n",
    "        \"number\": user.card.number,\n",
    "        \"limit\": user.card.limit\n",
    "    },\n",
    "    \"features\": \n",
    "        [{\"icon\": feature.icon,\"description\": feature.description[:200]} for feature in user.features]\n",
    "    ,\n",
    "    \"news\": [{\"icon\": new.icon,\"description\": new.description[:200]} for new in user.news]\n",
    "    }\n",
    "    response = requests.put(f'{endpoint}/users/{user.id}', data = (json.dumps(obj)))\n",
    "    \n",
    "    if response.status_code == 200:\n",
    "        print(f'Usuario: {user.id} atualizado com sucesso!')\n",
    "        print(response)\n",
    "    else:\n",
    "        print(f'Usuario: {user.id} não foi atualizado com sucesso!')\n",
    "        print(json.dumps(obj))\n",
    "        print(response.content)"
   ]
  },
  {
   "cell_type": "code",
   "execution_count": null,
   "metadata": {},
   "outputs": [],
   "source": []
  }
 ],
 "metadata": {
  "kernelspec": {
   "display_name": "Python 3",
   "language": "python",
   "name": "python3"
  },
  "language_info": {
   "codemirror_mode": {
    "name": "ipython",
    "version": 3
   },
   "file_extension": ".py",
   "mimetype": "text/x-python",
   "name": "python",
   "nbconvert_exporter": "python",
   "pygments_lexer": "ipython3",
   "version": "3.8.0"
  },
  "orig_nbformat": 4
 },
 "nbformat": 4,
 "nbformat_minor": 2
}
